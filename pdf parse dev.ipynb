{
 "cells": [
  {
   "cell_type": "code",
   "execution_count": 1,
   "id": "f1e23f5a-2a70-4b1f-99b9-80febd6e9d09",
   "metadata": {
    "tags": []
   },
   "outputs": [],
   "source": [
    "import os\n",
    "import pandas as pd\n",
    "import fitz\n",
    "from datetime import datetime\n",
    "import sqlite3\n",
    "from sqlalchemy import create_engine"
   ]
  },
  {
   "cell_type": "code",
   "execution_count": 2,
   "id": "43e2920a-180d-45b2-873d-40d496ec6eff",
   "metadata": {
    "tags": []
   },
   "outputs": [],
   "source": [
    "def find_pdfs(folder_path):\n",
    "    pdf_files = []\n",
    "\n",
    "    # Iterate through all files in the folder\n",
    "    for root, dirs, files in os.walk(folder_path):\n",
    "        for file in files:\n",
    "            file_path = os.path.join(root, file)\n",
    "\n",
    "            # Check if the file is a PDF\n",
    "            if file_path.lower().endswith('.pdf'):\n",
    "                pdf_files.append(file_path)\n",
    "\n",
    "    return pdf_files\n",
    "\n",
    "# Specify the folder path you want to search\n",
    "folder_path = 'sample pdf/'\n",
    "\n",
    "# Get the list of PDF files in the folder\n",
    "pdf_files = find_pdfs(folder_path)\n",
    "\n",
    "# Print the list of PDF file paths\n",
    "#for pdf_file in pdf_files:\n",
    "#    print(pdf_file)"
   ]
  },
  {
   "cell_type": "code",
   "execution_count": 3,
   "id": "fedc1803-c0c4-4c40-8da2-e6dc14cbb4d0",
   "metadata": {
    "tags": []
   },
   "outputs": [
    {
     "data": {
      "text/plain": [
       "['sample pdf/FinancialStatement-2021-Tahunan-MDKA.pdf',\n",
       " 'sample pdf/FinancialStatement-2022-Tahunan-MDKA.pdf']"
      ]
     },
     "execution_count": 3,
     "metadata": {},
     "output_type": "execute_result"
    }
   ],
   "source": [
    "pdf_files"
   ]
  },
  {
   "cell_type": "code",
   "execution_count": 4,
   "id": "0087209c-cde6-4bae-909d-61644ba35e1c",
   "metadata": {
    "tags": []
   },
   "outputs": [],
   "source": [
    "def pdf_parse(path:str)->pd.DataFrame:\n",
    "    pdf_document = fitz.open(path)\n",
    "    date_now = datetime.now().date()\n",
    "    for i in range(len(pdf_document)):\n",
    "        text = pdf_document[i].get_text()\n",
    "        text = text.split('\\n')\n",
    "        if text[0] == '[1410000] Statement of changes in equity - General Industry - Prior Year':\n",
    "            temp_data = {}\n",
    "            temp_data['date'] = text[1]\n",
    "            temp_data['record date'] = date_now\n",
    "            temp_data['saham biasa'] = text[-12]\n",
    "            temp_data['tambahan modal disetor'] = text[-11]\n",
    "            temp_data['cadangan lindung nilai arus kas'] = text[-10]\n",
    "            temp_data['Selisih transaksi ekuitas dengan pihak non-pengendali'] = text[-9]\n",
    "            temp_data['komponen transaksi ekuitas lainnya'] = text[-8]\n",
    "            temp_data['saldo laba yang telah ditentukan penggunaannya'] = text[-7]\n",
    "            temp_data['saldo laba yang belum ditentukan penggunaannya'] = text[-6]\n",
    "            temp_data['ekuitas yang dapat diatribusikan kepada entitas induk'] = text[-5]\n",
    "            temp_data['kepentingan non-pengendali'] = text[-4]\n",
    "            temp_data['ekuitas'] = text[-3] \n",
    "            temp_data = pd.DataFrame([temp_data])\n",
    "            temp_data['date'] = pd.to_datetime(temp_data['date'], format='%d %B %Y')\n",
    "            temp_data['record date'] = pd.to_datetime(temp_data['date'], format='%d %B %Y')\n",
    "            return temp_data\n",
    "            \n",
    "        else:\n",
    "            pass\n",
    "    "
   ]
  },
  {
   "cell_type": "code",
   "execution_count": 7,
   "id": "e95df022-41a5-4da9-9aab-0ea1c05255bf",
   "metadata": {
    "tags": []
   },
   "outputs": [
    {
     "name": "stdout",
     "output_type": "stream",
     "text": [
      "nothing to add\n"
     ]
    }
   ],
   "source": [
    "#def main()\n",
    "database_path = 'MDKA equity.db'\n",
    "log_table_name = 'log'\n",
    "equity_table_name = 'equity'\n",
    "folder_path = 'sample pdf/'\n",
    "if not os.path.exists(database_path):    \n",
    "    with sqlite3.connect(database_path) as connection:\n",
    "        pass\n",
    "    sql_engine = create_engine(f'sqlite:///{database_path}')\n",
    "    log_df_dummy = {'file name':None}\n",
    "    data_df_dummy = {'date': None,\n",
    "                     'record date': None,\n",
    "                     'saham biasa': None,\n",
    "                     'tambahan modal disetor': None,\n",
    "                     'cadangan lindung nilai arus kas': None,\n",
    "                     'Selisih transaksi ekuitas dengan pihak non-pengendali': None,\n",
    "                     'komponen transaksi ekuitas lainnya': None,\n",
    "                     'saldo laba yang telah ditentukan penggunaannya': None,\n",
    "                     'saldo laba yang belum ditentukan penggunaannya': None,\n",
    "                     'ekuitas yang dapat diatribusikan kepada entitas induk': None,\n",
    "                     'kepentingan non-pengendali': None,\n",
    "                     'ekuitas': None,\n",
    "                    }\n",
    "    log_df_dummy = pd.DataFrame([log_df_dummy])\n",
    "    data_df_dummy = pd.DataFrame([data_df_dummy])\n",
    "    log_df_dummy.to_sql(log_table_name, con=sql_engine, index=False, if_exists='replace')\n",
    "    data_df_dummy.to_sql(equity_table_name, con=sql_engine, index=False, if_exists='replace')\n",
    "\n",
    "#sql engine    \n",
    "sql_engine = create_engine(f'sqlite:///{database_path}')\n",
    "\n",
    "#get existing file pdf on folder\n",
    "list_pdf = find_pdfs(folder_path)\n",
    "\n",
    "# cek log record\n",
    "query = f\"SELECT * FROM {log_table_name}\"\n",
    "df_existing_log = pd.read_sql_query(query, sql_engine)\n",
    "not_recorded_pdf_list = [item for item in list_pdf if item not in df_existing_log['file name'].values]\n",
    "if len(not_recorded_pdf_list)<1:\n",
    "    print(\"nothing to add\")\n",
    "    pass\n",
    "else:\n",
    "    for item in not_recorded_pdf_list:\n",
    "        df_pdf_parsed = pdf_parse(item)\n",
    "        query = f\"SELECT * FROM {equity_table_name} WHERE 'date' = '{df_pdf_parsed['date'].iloc[0]}'\"\n",
    "        df_existing_recorded = pd.read_sql_query(query, sql_engine)\n",
    "        if len(df_existing_recorded)<1:\n",
    "            df_pdf_parsed.to_sql(equity_table_name, con=sql_engine, index=False, if_exists='append')\n",
    "            log_df = {'file name':item}\n",
    "            log_df = pd.DataFrame([log_df])\n",
    "            log_df.to_sql(log_table_name, con=sql_engine, index=False, if_exists='append')\n",
    "            print(f'adding {item} to database')\n",
    "        else:\n",
    "            pass\n",
    "        \n",
    " "
   ]
  },
  {
   "cell_type": "code",
   "execution_count": 8,
   "id": "fe1414f0-6f17-4bd2-919f-666100a13ffa",
   "metadata": {
    "tags": []
   },
   "outputs": [
    {
     "data": {
      "text/html": [
       "<div>\n",
       "<style scoped>\n",
       "    .dataframe tbody tr th:only-of-type {\n",
       "        vertical-align: middle;\n",
       "    }\n",
       "\n",
       "    .dataframe tbody tr th {\n",
       "        vertical-align: top;\n",
       "    }\n",
       "\n",
       "    .dataframe thead th {\n",
       "        text-align: right;\n",
       "    }\n",
       "</style>\n",
       "<table border=\"1\" class=\"dataframe\">\n",
       "  <thead>\n",
       "    <tr style=\"text-align: right;\">\n",
       "      <th></th>\n",
       "      <th>date</th>\n",
       "      <th>record date</th>\n",
       "      <th>saham biasa</th>\n",
       "      <th>tambahan modal disetor</th>\n",
       "      <th>cadangan lindung nilai arus kas</th>\n",
       "      <th>Selisih transaksi ekuitas dengan pihak non-pengendali</th>\n",
       "      <th>komponen transaksi ekuitas lainnya</th>\n",
       "      <th>saldo laba yang telah ditentukan penggunaannya</th>\n",
       "      <th>saldo laba yang belum ditentukan penggunaannya</th>\n",
       "      <th>ekuitas yang dapat diatribusikan kepada entitas induk</th>\n",
       "      <th>kepentingan non-pengendali</th>\n",
       "      <th>ekuitas</th>\n",
       "    </tr>\n",
       "  </thead>\n",
       "  <tbody>\n",
       "    <tr>\n",
       "      <th>0</th>\n",
       "      <td>None</td>\n",
       "      <td>None</td>\n",
       "      <td>None</td>\n",
       "      <td>None</td>\n",
       "      <td>None</td>\n",
       "      <td>None</td>\n",
       "      <td>None</td>\n",
       "      <td>None</td>\n",
       "      <td>None</td>\n",
       "      <td>None</td>\n",
       "      <td>None</td>\n",
       "      <td>None</td>\n",
       "    </tr>\n",
       "    <tr>\n",
       "      <th>1</th>\n",
       "      <td>2020-12-31 00:00:00.000000</td>\n",
       "      <td>2020-12-31 00:00:00.000000</td>\n",
       "      <td>34,690,620</td>\n",
       "      <td>286,506,032</td>\n",
       "      <td>5,911,012</td>\n",
       "      <td>1,621,363</td>\n",
       "      <td>18,037,984</td>\n",
       "      <td>1,100,000</td>\n",
       "      <td>187,122,534</td>\n",
       "      <td>534,989,545</td>\n",
       "      <td>28,656,336</td>\n",
       "      <td>563,645,881</td>\n",
       "    </tr>\n",
       "    <tr>\n",
       "      <th>2</th>\n",
       "      <td>2021-12-31 00:00:00.000000</td>\n",
       "      <td>2021-12-31 00:00:00.000000</td>\n",
       "      <td>(</td>\n",
       "      <td>113,972 )</td>\n",
       "      <td>4,947,007</td>\n",
       "      <td>19,010,236</td>\n",
       "      <td>16,470,154</td>\n",
       "      <td>1,200,000</td>\n",
       "      <td>223,161,211</td>\n",
       "      <td>755,566,432</td>\n",
       "      <td>23,843,865</td>\n",
       "      <td>779,410,297</td>\n",
       "    </tr>\n",
       "  </tbody>\n",
       "</table>\n",
       "</div>"
      ],
      "text/plain": [
       "                         date                 record date saham biasa  \\\n",
       "0                        None                        None        None   \n",
       "1  2020-12-31 00:00:00.000000  2020-12-31 00:00:00.000000  34,690,620   \n",
       "2  2021-12-31 00:00:00.000000  2021-12-31 00:00:00.000000          (    \n",
       "\n",
       "  tambahan modal disetor cadangan lindung nilai arus kas  \\\n",
       "0                   None                            None   \n",
       "1            286,506,032                       5,911,012   \n",
       "2              113,972 )                       4,947,007   \n",
       "\n",
       "  Selisih transaksi ekuitas dengan pihak non-pengendali  \\\n",
       "0                                               None      \n",
       "1                                          1,621,363      \n",
       "2                                         19,010,236      \n",
       "\n",
       "  komponen transaksi ekuitas lainnya  \\\n",
       "0                               None   \n",
       "1                         18,037,984   \n",
       "2                         16,470,154   \n",
       "\n",
       "  saldo laba yang telah ditentukan penggunaannya  \\\n",
       "0                                           None   \n",
       "1                                      1,100,000   \n",
       "2                                      1,200,000   \n",
       "\n",
       "  saldo laba yang belum ditentukan penggunaannya  \\\n",
       "0                                           None   \n",
       "1                                    187,122,534   \n",
       "2                                    223,161,211   \n",
       "\n",
       "  ekuitas yang dapat diatribusikan kepada entitas induk  \\\n",
       "0                                               None      \n",
       "1                                        534,989,545      \n",
       "2                                        755,566,432      \n",
       "\n",
       "  kepentingan non-pengendali      ekuitas  \n",
       "0                       None         None  \n",
       "1                 28,656,336  563,645,881  \n",
       "2                 23,843,865  779,410,297  "
      ]
     },
     "execution_count": 8,
     "metadata": {},
     "output_type": "execute_result"
    }
   ],
   "source": [
    "query = f\"SELECT * FROM {equity_table_name}\"\n",
    "df_existing_recorded = pd.read_sql_query(query, sql_engine)\n",
    "df_existing_recorded"
   ]
  }
 ],
 "metadata": {
  "kernelspec": {
   "display_name": "Python 3 (ipykernel)",
   "language": "python",
   "name": "python3"
  },
  "language_info": {
   "codemirror_mode": {
    "name": "ipython",
    "version": 3
   },
   "file_extension": ".py",
   "mimetype": "text/x-python",
   "name": "python",
   "nbconvert_exporter": "python",
   "pygments_lexer": "ipython3",
   "version": "3.11.5"
  }
 },
 "nbformat": 4,
 "nbformat_minor": 5
}
